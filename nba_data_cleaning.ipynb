{
 "cells": [
  {
   "cell_type": "code",
   "execution_count": 2,
   "metadata": {},
   "outputs": [
    {
     "name": "stdout",
     "output_type": "stream",
     "text": [
      "{'get': 'seasons/', 'parameters': [], 'errors': [], 'results': 9, 'response': [2015, 2016, 2017, 2018, 2019, 2020, 2021, 2022, 2023]}\n"
     ]
    }
   ],
   "source": [
    "import requests\n",
    "import json\n",
    "\n",
    "# url_season = \"https://api-nba-v1.p.rapidapi.com/seasons\"\n",
    "\n",
    "# headers = {\n",
    "# \t\"X-RapidAPI-Key\": \"a1f2649884mshde3f954c6bb1f91p1a8ff4jsn6b82f2c1b560\",\n",
    "# \t\"X-RapidAPI-Host\": \"api-nba-v1.p.rapidapi.com\"\n",
    "# }\n",
    "\n",
    "# response_season = requests.get(url_season, headers=headers)\n",
    "# season_data = response_season.json()\n",
    "# with open('nba_seasons.json', 'w') as json_file:\n",
    "#     json.dump(season_data, json_file, indent=4)"
   ]
  },
  {
   "cell_type": "code",
   "execution_count": 8,
   "metadata": {},
   "outputs": [],
   "source": [
    "# url_player = \"https://api-nba-v1.p.rapidapi.com/players\"\n",
    "# response_player = requests.get(url_player, headers=headers)\n",
    "# player_data = response_player.json()\n",
    "# with open('nba_player.json', 'w') as json_file:\n",
    "#     json.dump(player_data, json_file, indent=4)"
   ]
  },
  {
   "cell_type": "code",
   "execution_count": 9,
   "metadata": {},
   "outputs": [],
   "source": [
    "\n",
    "# get data about each team in nba record\n",
    "url_teams = \"https://api-nba-v1.p.rapidapi.com/teams\"\n",
    "response_teams = requests.get(url_teams, headers=headers)\n",
    "team_data = response_teams.json()\n",
    "with open('nba_teams.json', 'w') as json_file:\n",
    "    json.dump(team_data, json_file, indent=4)"
   ]
  },
  {
   "cell_type": "code",
   "execution_count": 30,
   "metadata": {},
   "outputs": [
    {
     "name": "stdout",
     "output_type": "stream",
     "text": [
      "Data already exists for team 1 in year 2021. Skipping...\n",
      "Data already exists for team 2 in year 2021. Skipping...\n",
      "Data saved to nba_team_3_season_2021.json\n",
      "Data already exists for team 4 in year 2021. Skipping...\n",
      "Data already exists for team 5 in year 2021. Skipping...\n",
      "Data already exists for team 6 in year 2021. Skipping...\n",
      "Data already exists for team 7 in year 2021. Skipping...\n",
      "Data already exists for team 8 in year 2021. Skipping...\n",
      "Data already exists for team 9 in year 2021. Skipping...\n",
      "Data already exists for team 10 in year 2021. Skipping...\n",
      "Data already exists for team 11 in year 2021. Skipping...\n",
      "Data saved to nba_team_12_season_2021.json\n",
      "Data saved to nba_team_13_season_2021.json\n",
      "Data already exists for team 14 in year 2021. Skipping...\n",
      "Data already exists for team 15 in year 2021. Skipping...\n",
      "Data already exists for team 16 in year 2021. Skipping...\n",
      "Data already exists for team 17 in year 2021. Skipping...\n",
      "Data saved to nba_team_18_season_2021.json\n",
      "Data already exists for team 19 in year 2021. Skipping...\n",
      "Data already exists for team 20 in year 2021. Skipping...\n",
      "Data already exists for team 21 in year 2021. Skipping...\n",
      "Data already exists for team 22 in year 2021. Skipping...\n",
      "Data already exists for team 23 in year 2021. Skipping...\n",
      "Data already exists for team 24 in year 2021. Skipping...\n",
      "Data already exists for team 25 in year 2021. Skipping...\n",
      "Data already exists for team 26 in year 2021. Skipping...\n",
      "Data already exists for team 27 in year 2021. Skipping...\n",
      "Data already exists for team 28 in year 2021. Skipping...\n",
      "Data already exists for team 29 in year 2021. Skipping...\n",
      "Data already exists for team 30 in year 2021. Skipping...\n",
      "Data already exists for team 31 in year 2021. Skipping...\n",
      "Data already exists for team 1 in year 2022. Skipping...\n",
      "Data already exists for team 2 in year 2022. Skipping...\n",
      "Data saved to nba_team_3_season_2022.json\n",
      "Data already exists for team 4 in year 2022. Skipping...\n",
      "Data already exists for team 5 in year 2022. Skipping...\n",
      "Data already exists for team 6 in year 2022. Skipping...\n",
      "Data already exists for team 7 in year 2022. Skipping...\n",
      "Data already exists for team 8 in year 2022. Skipping...\n",
      "Data already exists for team 9 in year 2022. Skipping...\n",
      "Data already exists for team 10 in year 2022. Skipping...\n",
      "Data already exists for team 11 in year 2022. Skipping...\n",
      "Data saved to nba_team_12_season_2022.json\n",
      "Data saved to nba_team_13_season_2022.json\n",
      "Data already exists for team 14 in year 2022. Skipping...\n",
      "Data already exists for team 15 in year 2022. Skipping...\n",
      "Data already exists for team 16 in year 2022. Skipping...\n",
      "Data already exists for team 17 in year 2022. Skipping...\n",
      "Data saved to nba_team_18_season_2022.json\n",
      "Data already exists for team 19 in year 2022. Skipping...\n",
      "Data already exists for team 20 in year 2022. Skipping...\n",
      "Data already exists for team 21 in year 2022. Skipping...\n",
      "Data already exists for team 22 in year 2022. Skipping...\n",
      "Data already exists for team 23 in year 2022. Skipping...\n",
      "Data already exists for team 24 in year 2022. Skipping...\n",
      "Data already exists for team 25 in year 2022. Skipping...\n",
      "Data already exists for team 26 in year 2022. Skipping...\n",
      "Data already exists for team 27 in year 2022. Skipping...\n",
      "Data already exists for team 28 in year 2022. Skipping...\n",
      "Data already exists for team 29 in year 2022. Skipping...\n",
      "Data already exists for team 30 in year 2022. Skipping...\n",
      "Data already exists for team 31 in year 2022. Skipping...\n",
      "Data already exists for team 1 in year 2023. Skipping...\n",
      "Data already exists for team 2 in year 2023. Skipping...\n",
      "Data saved to nba_team_3_season_2023.json\n",
      "Data already exists for team 4 in year 2023. Skipping...\n",
      "Data already exists for team 5 in year 2023. Skipping...\n",
      "Data already exists for team 6 in year 2023. Skipping...\n",
      "Data already exists for team 7 in year 2023. Skipping...\n",
      "Data already exists for team 8 in year 2023. Skipping...\n",
      "Data already exists for team 9 in year 2023. Skipping...\n",
      "Data already exists for team 10 in year 2023. Skipping...\n",
      "Data already exists for team 11 in year 2023. Skipping...\n",
      "Data saved to nba_team_12_season_2023.json\n",
      "Failed to retrieve data for team 13 in year 2023. Status code: 429\n",
      "Data already exists for team 14 in year 2023. Skipping...\n",
      "Data already exists for team 15 in year 2023. Skipping...\n",
      "Data already exists for team 16 in year 2023. Skipping...\n",
      "Data already exists for team 17 in year 2023. Skipping...\n",
      "Failed to retrieve data for team 18 in year 2023. Status code: 429\n",
      "Data already exists for team 19 in year 2023. Skipping...\n",
      "Data already exists for team 20 in year 2023. Skipping...\n",
      "Data already exists for team 21 in year 2023. Skipping...\n",
      "Data already exists for team 22 in year 2023. Skipping...\n",
      "Data already exists for team 23 in year 2023. Skipping...\n",
      "Data already exists for team 24 in year 2023. Skipping...\n",
      "Data already exists for team 25 in year 2023. Skipping...\n",
      "Data already exists for team 26 in year 2023. Skipping...\n",
      "Data already exists for team 27 in year 2023. Skipping...\n",
      "Data already exists for team 28 in year 2023. Skipping...\n",
      "Data already exists for team 29 in year 2023. Skipping...\n",
      "Data already exists for team 30 in year 2023. Skipping...\n",
      "Data already exists for team 31 in year 2023. Skipping...\n"
     ]
    }
   ],
   "source": [
    "import os\n",
    "import json\n",
    "import requests\n",
    "\n",
    "# Define the base URL and headers\n",
    "url = \"https://api-nba-v1.p.rapidapi.com/players/statistics\"\n",
    "headers = {\n",
    "    \"X-RapidAPI-Key\": \"a1f2649884mshde3f954c6bb1f91p1a8ff4jsn6b82f2c1b560\",\n",
    "    \"X-RapidAPI-Host\": \"api-nba-v1.p.rapidapi.com\"\n",
    "}\n",
    "\n",
    "# List of years and team IDs\n",
    "year_list = [2021, 2022, 2023]  # Example years\n",
    "# team_ids = list(range(1, 32))  # Team IDs range from 1 to 31\n",
    "team_ids = [1, 2, 4, 5, 6, 7, 8, 9, 10, 11, 14, 15, 16, 17, 19, 20, 21, 22, 23, 24, 25, 26, 27, 28, 29, 30, 31, 38, 40, 41]\n",
    "\n",
    "# Create the folder if it doesn't exist\n",
    "folder_name = 'game_stat'\n",
    "os.makedirs(folder_name, exist_ok=True)\n",
    "\n",
    "# Iterate over years and team IDs\n",
    "for year in year_list:\n",
    "    for team_id in team_ids:\n",
    "        # Create a filename using the team_id and year\n",
    "        filename = f'nba_team_{team_id}_season_{year}.json'\n",
    "        file_path = os.path.join(folder_name, filename)\n",
    "        \n",
    "        # Check if the file already exists\n",
    "        if not os.path.exists(file_path):\n",
    "            # Make the API request if the file doesn't exist\n",
    "            querystring = {\"team\": str(team_id), \"season\": str(year)}\n",
    "            response_game_Data = requests.get(url, headers=headers, params=querystring)\n",
    "            \n",
    "            if response_game_Data.status_code == 200:\n",
    "                team_stat = response_game_Data.json()\n",
    "                # Write the JSON data to the file\n",
    "                with open(file_path, 'w') as json_file:\n",
    "                    json.dump(team_stat, json_file, indent=4)\n",
    "                print(f\"Data saved to {filename}\")\n",
    "            else:\n",
    "                print(f\"Failed to retrieve data for team {team_id} in year {year}. Status code: {response_game_Data.status_code}\")\n",
    "        else:\n",
    "            print(f\"Data already exists for team {team_id} in year {year}. Skipping...\")\n"
   ]
  },
  {
   "cell_type": "code",
   "execution_count": 24,
   "metadata": {},
   "outputs": [
    {
     "data": {
      "text/plain": [
       "False"
      ]
     },
     "execution_count": 24,
     "metadata": {},
     "output_type": "execute_result"
    }
   ],
   "source": [
    "folder_name = 'game_stat'\n",
    "os.makedirs(folder_name, exist_ok=True)\n",
    "filename = \"nba_team_31_season_2023.json\"\n",
    "file_path = os.path.join(folder_name, filename)\n",
    "os.path.exists(file_path)"
   ]
  },
  {
   "cell_type": "code",
   "execution_count": null,
   "metadata": {},
   "outputs": [],
   "source": []
  },
  {
   "cell_type": "code",
   "execution_count": 10,
   "metadata": {},
   "outputs": [
    {
     "data": {
      "text/plain": [
       "[1,\n",
       " 2,\n",
       " 3,\n",
       " 4,\n",
       " 5,\n",
       " 6,\n",
       " 7,\n",
       " 8,\n",
       " 9,\n",
       " 10,\n",
       " 11,\n",
       " 12,\n",
       " 13,\n",
       " 14,\n",
       " 15,\n",
       " 16,\n",
       " 17,\n",
       " 18,\n",
       " 19,\n",
       " 20,\n",
       " 21,\n",
       " 22,\n",
       " 23,\n",
       " 24,\n",
       " 25,\n",
       " 26,\n",
       " 27,\n",
       " 28,\n",
       " 29,\n",
       " 30]"
      ]
     },
     "execution_count": 10,
     "metadata": {},
     "output_type": "execute_result"
    }
   ],
   "source": [
    "list(range(1, 31))"
   ]
  }
 ],
 "metadata": {
  "kernelspec": {
   "display_name": "Python 3",
   "language": "python",
   "name": "python3"
  },
  "language_info": {
   "codemirror_mode": {
    "name": "ipython",
    "version": 3
   },
   "file_extension": ".py",
   "mimetype": "text/x-python",
   "name": "python",
   "nbconvert_exporter": "python",
   "pygments_lexer": "ipython3",
   "version": "3.10.4"
  }
 },
 "nbformat": 4,
 "nbformat_minor": 2
}
